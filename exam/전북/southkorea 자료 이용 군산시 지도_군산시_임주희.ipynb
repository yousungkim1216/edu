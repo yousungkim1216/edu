{
 "cells": [
  {
   "cell_type": "code",
   "execution_count": 1,
   "id": "887139b2",
   "metadata": {},
   "outputs": [],
   "source": [
    "#data visualixation\n",
    "\n",
    "import folium\n",
    "import numpy as np\n",
    "import pandas as pd\n",
    "import matplotlib.pyplot as plt\n",
    "import re, os"
   ]
  },
  {
   "cell_type": "code",
   "execution_count": 2,
   "id": "02d11513",
   "metadata": {},
   "outputs": [],
   "source": [
    "#위도(군산시)\n",
    "latitude = 35.97094510712538\n",
    "#경도\n",
    "longitude = 126.697727905105\n",
    "\n",
    "m=folium.Map(location=[latitude,longitude], zoom_stat=17, width=750, height=500)\n",
    "#m"
   ]
  },
  {
   "cell_type": "code",
   "execution_count": 3,
   "id": "4fabeb59",
   "metadata": {
    "scrolled": true
   },
   "outputs": [
    {
     "data": {
      "text/plain": [
       "<folium.map.Marker at 0x24218292730>"
      ]
     },
     "execution_count": 3,
     "metadata": {},
     "output_type": "execute_result"
    }
   ],
   "source": [
    "folium.Marker([latitude, longitude], popup = '군산', tooltip='내가 사는 지역',\n",
    "            icon = folium.Icon('red', icon='star'),\n",
    "             ).add_to(m) #Icon(대문자 i)\n",
    "#m"
   ]
  },
  {
   "cell_type": "code",
   "execution_count": 4,
   "id": "5e1b3c82",
   "metadata": {},
   "outputs": [
    {
     "data": {
      "text/html": [
       "<div style=\"width:100%;\"><div style=\"position:relative;width:100%;height:0;padding-bottom:60%;\"><span style=\"color:#565656\">Make this Notebook Trusted to load map: File -> Trust Notebook</span><iframe srcdoc=\"&lt;!DOCTYPE html&gt;\n",
       "&lt;head&gt;    \n",
       "    &lt;meta http-equiv=&quot;content-type&quot; content=&quot;text/html; charset=UTF-8&quot; /&gt;\n",
       "    \n",
       "        &lt;script&gt;\n",
       "            L_NO_TOUCH = false;\n",
       "            L_DISABLE_3D = false;\n",
       "        &lt;/script&gt;\n",
       "    \n",
       "    &lt;style&gt;html, body {width: 100%;height: 100%;margin: 0;padding: 0;}&lt;/style&gt;\n",
       "    &lt;style&gt;#map {position:absolute;top:0;bottom:0;right:0;left:0;}&lt;/style&gt;\n",
       "    &lt;script src=&quot;https://cdn.jsdelivr.net/npm/leaflet@1.6.0/dist/leaflet.js&quot;&gt;&lt;/script&gt;\n",
       "    &lt;script src=&quot;https://code.jquery.com/jquery-1.12.4.min.js&quot;&gt;&lt;/script&gt;\n",
       "    &lt;script src=&quot;https://maxcdn.bootstrapcdn.com/bootstrap/3.2.0/js/bootstrap.min.js&quot;&gt;&lt;/script&gt;\n",
       "    &lt;script src=&quot;https://cdnjs.cloudflare.com/ajax/libs/Leaflet.awesome-markers/2.0.2/leaflet.awesome-markers.js&quot;&gt;&lt;/script&gt;\n",
       "    &lt;link rel=&quot;stylesheet&quot; href=&quot;https://cdn.jsdelivr.net/npm/leaflet@1.6.0/dist/leaflet.css&quot;/&gt;\n",
       "    &lt;link rel=&quot;stylesheet&quot; href=&quot;https://maxcdn.bootstrapcdn.com/bootstrap/3.2.0/css/bootstrap.min.css&quot;/&gt;\n",
       "    &lt;link rel=&quot;stylesheet&quot; href=&quot;https://maxcdn.bootstrapcdn.com/bootstrap/3.2.0/css/bootstrap-theme.min.css&quot;/&gt;\n",
       "    &lt;link rel=&quot;stylesheet&quot; href=&quot;https://maxcdn.bootstrapcdn.com/font-awesome/4.6.3/css/font-awesome.min.css&quot;/&gt;\n",
       "    &lt;link rel=&quot;stylesheet&quot; href=&quot;https://cdnjs.cloudflare.com/ajax/libs/Leaflet.awesome-markers/2.0.2/leaflet.awesome-markers.css&quot;/&gt;\n",
       "    &lt;link rel=&quot;stylesheet&quot; href=&quot;https://cdn.jsdelivr.net/gh/python-visualization/folium/folium/templates/leaflet.awesome.rotate.min.css&quot;/&gt;\n",
       "    \n",
       "            &lt;meta name=&quot;viewport&quot; content=&quot;width=device-width,\n",
       "                initial-scale=1.0, maximum-scale=1.0, user-scalable=no&quot; /&gt;\n",
       "            &lt;style&gt;\n",
       "                #map_494486e3d18b774837631302a95394b5 {\n",
       "                    position: relative;\n",
       "                    width: 750.0px;\n",
       "                    height: 500.0px;\n",
       "                    left: 0.0%;\n",
       "                    top: 0.0%;\n",
       "                }\n",
       "            &lt;/style&gt;\n",
       "        \n",
       "&lt;/head&gt;\n",
       "&lt;body&gt;    \n",
       "    \n",
       "            &lt;div class=&quot;folium-map&quot; id=&quot;map_494486e3d18b774837631302a95394b5&quot; &gt;&lt;/div&gt;\n",
       "        \n",
       "&lt;/body&gt;\n",
       "&lt;script&gt;    \n",
       "    \n",
       "            var map_494486e3d18b774837631302a95394b5 = L.map(\n",
       "                &quot;map_494486e3d18b774837631302a95394b5&quot;,\n",
       "                {\n",
       "                    center: [35.97094510712538, 126.697727905105],\n",
       "                    crs: L.CRS.EPSG3857,\n",
       "                    zoom: 10,\n",
       "                    zoomControl: true,\n",
       "                    preferCanvas: false,\n",
       "                    zoomStat: 17,\n",
       "                }\n",
       "            );\n",
       "\n",
       "            \n",
       "\n",
       "        \n",
       "    \n",
       "            var tile_layer_e2be4ed68b0bec6d7d0a4bcee70b20d6 = L.tileLayer(\n",
       "                &quot;https://{s}.tile.openstreetmap.org/{z}/{x}/{y}.png&quot;,\n",
       "                {&quot;attribution&quot;: &quot;Data by \\u0026copy; \\u003ca href=\\&quot;http://openstreetmap.org\\&quot;\\u003eOpenStreetMap\\u003c/a\\u003e, under \\u003ca href=\\&quot;http://www.openstreetmap.org/copyright\\&quot;\\u003eODbL\\u003c/a\\u003e.&quot;, &quot;detectRetina&quot;: false, &quot;maxNativeZoom&quot;: 18, &quot;maxZoom&quot;: 18, &quot;minZoom&quot;: 0, &quot;noWrap&quot;: false, &quot;opacity&quot;: 1, &quot;subdomains&quot;: &quot;abc&quot;, &quot;tms&quot;: false}\n",
       "            ).addTo(map_494486e3d18b774837631302a95394b5);\n",
       "        \n",
       "    \n",
       "            var marker_c2b5aa26db2c8f2d7751475070121932 = L.marker(\n",
       "                [35.97094510712538, 126.697727905105],\n",
       "                {}\n",
       "            ).addTo(map_494486e3d18b774837631302a95394b5);\n",
       "        \n",
       "    \n",
       "            var icon_d79a62b9c27c6e1cdb63b304da7e17e5 = L.AwesomeMarkers.icon(\n",
       "                {&quot;extraClasses&quot;: &quot;fa-rotate-0&quot;, &quot;icon&quot;: &quot;star&quot;, &quot;iconColor&quot;: &quot;white&quot;, &quot;markerColor&quot;: &quot;red&quot;, &quot;prefix&quot;: &quot;glyphicon&quot;}\n",
       "            );\n",
       "            marker_c2b5aa26db2c8f2d7751475070121932.setIcon(icon_d79a62b9c27c6e1cdb63b304da7e17e5);\n",
       "        \n",
       "    \n",
       "        var popup_c91e8d12c42106b03e80909eff24723d = L.popup({&quot;maxWidth&quot;: &quot;100%&quot;});\n",
       "\n",
       "        \n",
       "            var html_064fe54c22c7d065a2a82b1ffc428148 = $(`&lt;div id=&quot;html_064fe54c22c7d065a2a82b1ffc428148&quot; style=&quot;width: 100.0%; height: 100.0%;&quot;&gt;군산&lt;/div&gt;`)[0];\n",
       "            popup_c91e8d12c42106b03e80909eff24723d.setContent(html_064fe54c22c7d065a2a82b1ffc428148);\n",
       "        \n",
       "\n",
       "        marker_c2b5aa26db2c8f2d7751475070121932.bindPopup(popup_c91e8d12c42106b03e80909eff24723d)\n",
       "        ;\n",
       "\n",
       "        \n",
       "    \n",
       "    \n",
       "            marker_c2b5aa26db2c8f2d7751475070121932.bindTooltip(\n",
       "                `&lt;div&gt;\n",
       "                     내가 사는 지역\n",
       "                 &lt;/div&gt;`,\n",
       "                {&quot;sticky&quot;: true}\n",
       "            );\n",
       "        \n",
       "    \n",
       "            var circle_marker_0fb0bda28860d76d1ba22accc74680ef = L.circleMarker(\n",
       "                [35.97094510712538, 126.697727905105],\n",
       "                {&quot;bubblingMouseEvents&quot;: true, &quot;color&quot;: &quot;red&quot;, &quot;dashArray&quot;: null, &quot;dashOffset&quot;: null, &quot;fill&quot;: false, &quot;fillColor&quot;: &quot;red&quot;, &quot;fillOpacity&quot;: 0.2, &quot;fillRule&quot;: &quot;evenodd&quot;, &quot;lineCap&quot;: &quot;round&quot;, &quot;lineJoin&quot;: &quot;round&quot;, &quot;opacity&quot;: 1.0, &quot;radius&quot;: 50, &quot;stroke&quot;: true, &quot;weight&quot;: 3}\n",
       "            ).addTo(map_494486e3d18b774837631302a95394b5);\n",
       "        \n",
       "    \n",
       "            circle_marker_0fb0bda28860d76d1ba22accc74680ef.bindTooltip(\n",
       "                `&lt;div&gt;\n",
       "                     전북 군산\n",
       "                 &lt;/div&gt;`,\n",
       "                {&quot;sticky&quot;: true}\n",
       "            );\n",
       "        \n",
       "&lt;/script&gt;\" style=\"position:absolute;width:100%;height:100%;left:0;top:0;border:none !important;\" allowfullscreen webkitallowfullscreen mozallowfullscreen></iframe></div></div>"
      ],
      "text/plain": [
       "<folium.folium.Map at 0x2421ba539d0>"
      ]
     },
     "execution_count": 4,
     "metadata": {},
     "output_type": "execute_result"
    }
   ],
   "source": [
    "folium.CircleMarker([latitude, longitude], color='red', radius = 50 , tooltip ='전북 군산').add_to(m)\n",
    "m"
   ]
  },
  {
   "cell_type": "code",
   "execution_count": 5,
   "id": "dd8da109",
   "metadata": {},
   "outputs": [
    {
     "data": {
      "text/html": [
       "<div>\n",
       "<style scoped>\n",
       "    .dataframe tbody tr th:only-of-type {\n",
       "        vertical-align: middle;\n",
       "    }\n",
       "\n",
       "    .dataframe tbody tr th {\n",
       "        vertical-align: top;\n",
       "    }\n",
       "\n",
       "    .dataframe thead th {\n",
       "        text-align: right;\n",
       "    }\n",
       "</style>\n",
       "<table border=\"1\" class=\"dataframe\">\n",
       "  <thead>\n",
       "    <tr style=\"text-align: right;\">\n",
       "      <th></th>\n",
       "      <th>상가업소번호</th>\n",
       "      <th>상호명</th>\n",
       "      <th>지점명</th>\n",
       "      <th>상권업종대분류코드</th>\n",
       "      <th>상권업종대분류명</th>\n",
       "      <th>상권업종중분류코드</th>\n",
       "      <th>상권업종중분류명</th>\n",
       "      <th>상권업종소분류코드</th>\n",
       "      <th>상권업종소분류명</th>\n",
       "      <th>표준산업분류코드</th>\n",
       "      <th>...</th>\n",
       "      <th>건물관리번호</th>\n",
       "      <th>건물명</th>\n",
       "      <th>도로명주소</th>\n",
       "      <th>구우편번호</th>\n",
       "      <th>신우편번호</th>\n",
       "      <th>동정보</th>\n",
       "      <th>층정보</th>\n",
       "      <th>호정보</th>\n",
       "      <th>경도</th>\n",
       "      <th>위도</th>\n",
       "    </tr>\n",
       "  </thead>\n",
       "  <tbody>\n",
       "    <tr>\n",
       "      <th>0</th>\n",
       "      <td>20763988</td>\n",
       "      <td>공덕이발관</td>\n",
       "      <td>NaN</td>\n",
       "      <td>F</td>\n",
       "      <td>생활서비스</td>\n",
       "      <td>F01</td>\n",
       "      <td>이/미용/건강</td>\n",
       "      <td>F01A04</td>\n",
       "      <td>남성미용실</td>\n",
       "      <td>S96111</td>\n",
       "      <td>...</td>\n",
       "      <td>4.521040e+24</td>\n",
       "      <td>NaN</td>\n",
       "      <td>전라북도 김제시 공덕면 공덕10길 3</td>\n",
       "      <td>576921</td>\n",
       "      <td>54320.0</td>\n",
       "      <td>NaN</td>\n",
       "      <td>NaN</td>\n",
       "      <td>NaN</td>\n",
       "      <td>126.911612</td>\n",
       "      <td>35.892901</td>\n",
       "    </tr>\n",
       "    <tr>\n",
       "      <th>1</th>\n",
       "      <td>23959893</td>\n",
       "      <td>MK디자인건축</td>\n",
       "      <td>NaN</td>\n",
       "      <td>D</td>\n",
       "      <td>소매</td>\n",
       "      <td>D07</td>\n",
       "      <td>가정/주방/인테리어</td>\n",
       "      <td>D07A15</td>\n",
       "      <td>유리/페인트/철물건축자재</td>\n",
       "      <td>G47519</td>\n",
       "      <td>...</td>\n",
       "      <td>4.514010e+24</td>\n",
       "      <td>NaN</td>\n",
       "      <td>전라북도 익산시 군익로 443</td>\n",
       "      <td>570080</td>\n",
       "      <td>54658.0</td>\n",
       "      <td>NaN</td>\n",
       "      <td>NaN</td>\n",
       "      <td>NaN</td>\n",
       "      <td>126.934829</td>\n",
       "      <td>35.944067</td>\n",
       "    </tr>\n",
       "    <tr>\n",
       "      <th>2</th>\n",
       "      <td>17174374</td>\n",
       "      <td>산리지호텔</td>\n",
       "      <td>NaN</td>\n",
       "      <td>O</td>\n",
       "      <td>숙박</td>\n",
       "      <td>O01</td>\n",
       "      <td>호텔/콘도</td>\n",
       "      <td>O01A01</td>\n",
       "      <td>호텔/콘도</td>\n",
       "      <td>NaN</td>\n",
       "      <td>...</td>\n",
       "      <td>4.519010e+24</td>\n",
       "      <td>남원국민호텔</td>\n",
       "      <td>전라북도 남원시 소리길 124</td>\n",
       "      <td>590090</td>\n",
       "      <td>55795.0</td>\n",
       "      <td>NaN</td>\n",
       "      <td>NaN</td>\n",
       "      <td>NaN</td>\n",
       "      <td>127.389987</td>\n",
       "      <td>35.406587</td>\n",
       "    </tr>\n",
       "  </tbody>\n",
       "</table>\n",
       "<p>3 rows × 39 columns</p>\n",
       "</div>"
      ],
      "text/plain": [
       "     상가업소번호      상호명  지점명 상권업종대분류코드 상권업종대분류명 상권업종중분류코드    상권업종중분류명 상권업종소분류코드  \\\n",
       "0  20763988    공덕이발관  NaN         F    생활서비스       F01     이/미용/건강    F01A04   \n",
       "1  23959893  MK디자인건축  NaN         D       소매       D07  가정/주방/인테리어    D07A15   \n",
       "2  17174374    산리지호텔  NaN         O       숙박       O01       호텔/콘도    O01A01   \n",
       "\n",
       "        상권업종소분류명 표준산업분류코드  ...        건물관리번호     건물명                 도로명주소  \\\n",
       "0          남성미용실   S96111  ...  4.521040e+24     NaN  전라북도 김제시 공덕면 공덕10길 3   \n",
       "1  유리/페인트/철물건축자재   G47519  ...  4.514010e+24     NaN      전라북도 익산시 군익로 443   \n",
       "2          호텔/콘도      NaN  ...  4.519010e+24  남원국민호텔      전라북도 남원시 소리길 124   \n",
       "\n",
       "    구우편번호    신우편번호  동정보 층정보  호정보          경도         위도  \n",
       "0  576921  54320.0  NaN NaN  NaN  126.911612  35.892901  \n",
       "1  570080  54658.0  NaN NaN  NaN  126.934829  35.944067  \n",
       "2  590090  55795.0  NaN NaN  NaN  127.389987  35.406587  \n",
       "\n",
       "[3 rows x 39 columns]"
      ]
     },
     "execution_count": 5,
     "metadata": {},
     "output_type": "execute_result"
    }
   ],
   "source": [
    "#전북 불러오기\n",
    "import pandas as pd\n",
    "\n",
    "df =  pd.read_csv('소상공인시장진흥공단_상가(상권)정보_전북_202206.csv', encoding='cp949') #쥬피터에 파일 UPload해야함\n",
    "df.head(3)"
   ]
  },
  {
   "cell_type": "code",
   "execution_count": 6,
   "id": "3781c4af",
   "metadata": {},
   "outputs": [
    {
     "data": {
      "text/plain": [
       "0        상가업소번호\n",
       "1           상호명\n",
       "2           지점명\n",
       "3     상권업종대분류코드\n",
       "4      상권업종대분류명\n",
       "5     상권업종중분류코드\n",
       "6      상권업종중분류명\n",
       "7     상권업종소분류코드\n",
       "8      상권업종소분류명\n",
       "9      표준산업분류코드\n",
       "10      표준산업분류명\n",
       "11         시도코드\n",
       "12          시도명\n",
       "13        시군구코드\n",
       "14         시군구명\n",
       "15        행정동코드\n",
       "16         행정동명\n",
       "17        법정동코드\n",
       "18         법정동명\n",
       "19         지번코드\n",
       "20       대지구분코드\n",
       "21        대지구분명\n",
       "22        지번본번지\n",
       "23        지번부번지\n",
       "24         지번주소\n",
       "25        도로명코드\n",
       "26          도로명\n",
       "27        건물본번지\n",
       "28        건물부번지\n",
       "29       건물관리번호\n",
       "30          건물명\n",
       "31        도로명주소\n",
       "32        구우편번호\n",
       "33        신우편번호\n",
       "34          동정보\n",
       "35          층정보\n",
       "36          호정보\n",
       "37           경도\n",
       "38           위도\n",
       "dtype: object"
      ]
     },
     "execution_count": 6,
     "metadata": {},
     "output_type": "execute_result"
    }
   ],
   "source": [
    "pd.Series(df.columns)"
   ]
  },
  {
   "cell_type": "code",
   "execution_count": 7,
   "id": "f3820962",
   "metadata": {},
   "outputs": [],
   "source": [
    "sub_df = df.loc[df['행정동명'].isin(['수송동','조촌동','삼학동'])]\n",
    "#sub_df.head(3)"
   ]
  },
  {
   "cell_type": "code",
   "execution_count": 8,
   "id": "19a505bf",
   "metadata": {},
   "outputs": [],
   "source": [
    "#sub_df[['위도','경도','상호명']]"
   ]
  },
  {
   "cell_type": "code",
   "execution_count": 9,
   "id": "f5b086f3",
   "metadata": {},
   "outputs": [],
   "source": [
    "from folium.plugins import MarkerCluster\n",
    "\n",
    "m=folium.Map(location=[latitude, longitude], zoom_start=15)\n",
    "\n",
    "coords = sub_df[['위도','경도']]\n",
    "marker_cluster=MarkerCluster().add_to(m)\n",
    "\n",
    "for lat,long in zip(coords['위도'],coords['경도']):\n",
    "    folium.Marker([lat,long],\n",
    "                 icon=folium.Icon(color=\"green\") # Icon(대문자 i)\n",
    "                  ).add_to(marker_cluster)\n",
    "#m"
   ]
  },
  {
   "cell_type": "code",
   "execution_count": 10,
   "id": "a1f3bfe0",
   "metadata": {},
   "outputs": [],
   "source": [
    "import matplotlib.pyplot as plt\n",
    "import seaborn as sns"
   ]
  },
  {
   "cell_type": "code",
   "execution_count": 11,
   "id": "d59c2b30",
   "metadata": {},
   "outputs": [],
   "source": [
    "gunsan = pd.read_csv('소상공인시장진흥공단_상가(상권)정보_전북_202206.csv', encoding='cp949')\n",
    "gunsan = gunsan[['시군구명','상권업종대분류명','상권업종중분류명','위도','경도']]\n",
    "#gunsan"
   ]
  },
  {
   "cell_type": "code",
   "execution_count": 12,
   "id": "14fd542a",
   "metadata": {},
   "outputs": [],
   "source": [
    "import requests\n",
    "import json"
   ]
  },
  {
   "cell_type": "code",
   "execution_count": 13,
   "id": "ff2fb417",
   "metadata": {},
   "outputs": [],
   "source": [
    "# 군산 행정구역 json.raw파일(githubcontent)을 읽어서 r에 저장\n",
    "\n",
    "r = requests.get('https://raw.githubusercontent.com/yousungkim1216/edu/main/jupyter/southkorea.json')#전국\n",
    "\n",
    "c=r.content\n",
    "#좌표 추출\n",
    "gunsan_geo = json.loads(c)"
   ]
  },
  {
   "cell_type": "code",
   "execution_count": 14,
   "id": "286648ad",
   "metadata": {},
   "outputs": [
    {
     "data": {
      "text/plain": [
       "<folium.features.GeoJson at 0x2422a7e00d0>"
      ]
     },
     "execution_count": 14,
     "metadata": {},
     "output_type": "execute_result"
    }
   ],
   "source": [
    "m = folium.Map(\n",
    "    location=[37.559819, 126.963895],\n",
    "    zoom_start=11, \n",
    ")\n",
    "\n",
    "folium.GeoJson(\n",
    "    #seoul_geo,\n",
    "    gunsan_geo,\n",
    "    name='지역구'\n",
    ").add_to(m)\n",
    "\n",
    "#m"
   ]
  },
  {
   "cell_type": "code",
   "execution_count": 15,
   "id": "44cd0c7b",
   "metadata": {},
   "outputs": [],
   "source": [
    "import matplotlib.pyplot as plt\n",
    "import seaborn as sns\n",
    "\n",
    "#plt.figure(figsize=(12, 30))\n",
    "#sns.countplot(y=gunsan['상권업종중분류명'], order=gunsan['상권업종중분류명'].value_counts().index)\n",
    "#plt.yticks(fontsize=12)\n",
    "#plt.title('군산시 업종별 개수')\n",
    "#plt.show()"
   ]
  },
  {
   "cell_type": "code",
   "execution_count": 16,
   "id": "ba831927",
   "metadata": {},
   "outputs": [
    {
     "data": {
      "image/png": "[encoded data removed]",
      "text/plain": [
       "<Figure size 864x720 with 1 Axes>"
      ]
     },
     "metadata": {
      "needs_background": "light"
     },
     "output_type": "display_data"
    }
   ],
   "source": [
    "plt.figure(figsize=(12, 10))\n",
    "gunsan.loc[gunsan['상권업종중분류명'] == '커피점/카페'].groupby('시군구명')['상권업종대분류명'].count().sort_values().plot(kind='barh', color='royalblue')\n",
    "plt.yticks(fontsize=12)\n",
    "plt.title('전북 자치구별 커피점/카페 업종수')\n",
    "\n",
    "plt.show()"
   ]
  },
  {
   "cell_type": "code",
   "execution_count": 17,
   "id": "a75ce539",
   "metadata": {},
   "outputs": [],
   "source": [
    "gunsan_coffee = gunsan.loc[gunsan['상권업종중분류명'] == '커피점/카페']\n",
    "#gunsan_coffee"
   ]
  },
  {
   "cell_type": "code",
   "execution_count": 18,
   "id": "7ba616e1",
   "metadata": {},
   "outputs": [],
   "source": [
    "gunsan_coffee = gunsan.loc[gunsan['상권업종중분류명'] == '부동산중개']\n",
    "#gunsan_coffee"
   ]
  },
  {
   "cell_type": "code",
   "execution_count": 19,
   "id": "a01ed8ec",
   "metadata": {},
   "outputs": [],
   "source": [
    "\n",
    "m=folium.Map(location=[35.97094510712538, 126.697727905105],zoom_start=12,tiles='cartodbpositron')\n",
    "folium.GeoJson(gunsan_geo, name='지역구').add_to(m)\n",
    "\n",
    "marker_cluster = MarkerCluster().add_to(m)\n",
    "\n",
    "for lat, long in zip(gunsan_coffee['위도'],gunsan_coffee['경도']):\n",
    "    folium.Marker([lat,long],icon=folium.Icon(color='green')).add_to(marker_cluster)\n",
    "#m"
   ]
  },
  {
   "cell_type": "code",
   "execution_count": 20,
   "id": "a1603b61",
   "metadata": {},
   "outputs": [],
   "source": [
    "gunsan_group_data=gunsan.loc[gunsan['상권업종중분류명']=='커피점/카페'].groupby('시군구명')['상권업종중분류명'].count()\n",
    "#gunsan_group_data"
   ]
  },
  {
   "cell_type": "code",
   "execution_count": 21,
   "id": "70f1a8ec",
   "metadata": {},
   "outputs": [
    {
     "name": "stderr",
     "output_type": "stream",
     "text": [
      "C:\\Users\\User\\anaconda3\\lib\\site-packages\\folium\\folium.py:409: FutureWarning: The choropleth  method has been deprecated. Instead use the new Choropleth class, which has the same arguments. See the example notebook 'GeoJSON_and_choropleth' for how to do this.\n",
      "  warnings.warn(\n"
     ]
    }
   ],
   "source": [
    "m=folium.Map(location=[35.97094510712538, 126.697727905105],zoom_start=12,tiles='cartodbpositron')\n",
    "folium.GeoJson(gunsan_geo, name='지역구').add_to(m)\n",
    "\n",
    "m.choropleth(geo_data=gunsan_geo, data=gunsan_group_data,\n",
    "             fill_color ='YlOrRd', fill_opacity=0.5, line_opacity=0.2,\n",
    "             key_on='properties.name', legend_name='군산시 커피 업종수')\n",
    "#m"
   ]
  },
  {
   "cell_type": "code",
   "execution_count": 22,
   "id": "857705ce",
   "metadata": {},
   "outputs": [],
   "source": [
    "bins = list(gunsan_group_data.quantile([0, 0.25, 0.5, 0.75, 1]))\n",
    "\n",
    "m = folium.Map(\n",
    "    location=[35.97094510712538, 126.697727905105],\n",
    "    zoom_start=11, \n",
    "    tiles='cartodbpositron'\n",
    ")\n",
    "\n",
    "folium.GeoJson(\n",
    "    gunsan_geo,\n",
    "    name='지역구'\n",
    ").add_to(m)\n",
    "\n",
    "m.choropleth(geo_data=gunsan_geo,\n",
    "             data=gunsan_group_data, \n",
    "             fill_color='YlOrRd', # 색상 변경도 가능하다\n",
    "             fill_opacity=0.5,\n",
    "             line_opacity=0.2,\n",
    "             key_on='properties.name',\n",
    "             legend_name=\"군산시 커피 업종 수\", \n",
    "             bins=bins\n",
    "            )\n",
    "#m\n",
    "m.save('군산_임주희.html')"
   ]
  }
 ],
 "metadata": {
  "kernelspec": {
   "display_name": "Python 3 (ipykernel)",
   "language": "python",
   "name": "python3"
  },
  "language_info": {
   "codemirror_mode": {
    "name": "ipython",
    "version": 3
   },
   "file_extension": ".py",
   "mimetype": "text/x-python",
   "name": "python",
   "nbconvert_exporter": "python",
   "pygments_lexer": "ipython3",
   "version": "3.9.12"
  }
 },
 "nbformat": 4,
 "nbformat_minor": 5
}
