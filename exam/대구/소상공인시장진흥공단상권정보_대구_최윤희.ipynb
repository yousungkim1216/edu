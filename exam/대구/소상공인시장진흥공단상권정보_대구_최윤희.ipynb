{
 "cells": [
  {
   "cell_type": "code",
   "execution_count": 1,
   "id": "26fdae85",
   "metadata": {},
   "outputs": [],
   "source": [
    "# 필요한 모듈 import\n",
    "\n",
    "import pandas as pd\n",
    "\n",
    "\n",
    "df = pd.read_csv('소상공인시장진흥공단_상가(상권)정보_대구_202206.csv', encoding = 'cp949')\n",
    "\n",
    "#df.head(3)"
   ]
  },
  {
   "cell_type": "code",
   "execution_count": 2,
   "id": "759e5499",
   "metadata": {},
   "outputs": [],
   "source": [
    "import folium\n",
    "\n",
    "#위도\n",
    "latitude = 35.84913602042656\n",
    "#경도\n",
    "longitude = 128.58860363697113\n",
    "\n",
    "m = folium.Map(location=[latitude, longitude],\n",
    "               zoom_start=17, \n",
    "               width=750, \n",
    "               height=500\n",
    "              )\n",
    "#m"
   ]
  },
  {
   "cell_type": "code",
   "execution_count": 3,
   "id": "bf8468db",
   "metadata": {},
   "outputs": [
    {
     "data": {
      "text/plain": [
       "0        상가업소번호\n",
       "1           상호명\n",
       "2           지점명\n",
       "3     상권업종대분류코드\n",
       "4      상권업종대분류명\n",
       "5     상권업종중분류코드\n",
       "6      상권업종중분류명\n",
       "7     상권업종소분류코드\n",
       "8      상권업종소분류명\n",
       "9      표준산업분류코드\n",
       "10      표준산업분류명\n",
       "11         시도코드\n",
       "12          시도명\n",
       "13        시군구코드\n",
       "14         시군구명\n",
       "15        행정동코드\n",
       "16         행정동명\n",
       "17        법정동코드\n",
       "18         법정동명\n",
       "19         지번코드\n",
       "20       대지구분코드\n",
       "21        대지구분명\n",
       "22        지번본번지\n",
       "23        지번부번지\n",
       "24         지번주소\n",
       "25        도로명코드\n",
       "26          도로명\n",
       "27        건물본번지\n",
       "28        건물부번지\n",
       "29       건물관리번호\n",
       "30          건물명\n",
       "31        도로명주소\n",
       "32        구우편번호\n",
       "33        신우편번호\n",
       "34          동정보\n",
       "35          층정보\n",
       "36          호정보\n",
       "37           경도\n",
       "38           위도\n",
       "dtype: object"
      ]
     },
     "execution_count": 3,
     "metadata": {},
     "output_type": "execute_result"
    }
   ],
   "source": [
    "pd.Series(df.columns)"
   ]
  },
  {
   "cell_type": "code",
   "execution_count": 4,
   "id": "84992797",
   "metadata": {},
   "outputs": [],
   "source": [
    "sub_df = df.loc[df['법정동명'].isin(['삼덕동','봉덕동','대봉동'])]\n",
    "#sub_df"
   ]
  },
  {
   "cell_type": "code",
   "execution_count": 5,
   "id": "8b9d44a2",
   "metadata": {},
   "outputs": [
    {
     "data": {
      "text/html": [
       "<div>\n",
       "<style scoped>\n",
       "    .dataframe tbody tr th:only-of-type {\n",
       "        vertical-align: middle;\n",
       "    }\n",
       "\n",
       "    .dataframe tbody tr th {\n",
       "        vertical-align: top;\n",
       "    }\n",
       "\n",
       "    .dataframe thead th {\n",
       "        text-align: right;\n",
       "    }\n",
       "</style>\n",
       "<table border=\"1\" class=\"dataframe\">\n",
       "  <thead>\n",
       "    <tr style=\"text-align: right;\">\n",
       "      <th></th>\n",
       "      <th>위도</th>\n",
       "      <th>경도</th>\n",
       "      <th>상호명</th>\n",
       "    </tr>\n",
       "  </thead>\n",
       "  <tbody>\n",
       "    <tr>\n",
       "      <th>19</th>\n",
       "      <td>35.846625</td>\n",
       "      <td>128.603750</td>\n",
       "      <td>그린플라워꽃</td>\n",
       "    </tr>\n",
       "    <tr>\n",
       "      <th>42</th>\n",
       "      <td>35.842329</td>\n",
       "      <td>128.593976</td>\n",
       "      <td>휴대폰ACC</td>\n",
       "    </tr>\n",
       "    <tr>\n",
       "      <th>65</th>\n",
       "      <td>35.844665</td>\n",
       "      <td>128.604631</td>\n",
       "      <td>나윤라이프</td>\n",
       "    </tr>\n",
       "    <tr>\n",
       "      <th>74</th>\n",
       "      <td>35.855724</td>\n",
       "      <td>128.606376</td>\n",
       "      <td>인디에프대백프라자점</td>\n",
       "    </tr>\n",
       "    <tr>\n",
       "      <th>132</th>\n",
       "      <td>35.860259</td>\n",
       "      <td>128.600675</td>\n",
       "      <td>스마트공인중개사사무소</td>\n",
       "    </tr>\n",
       "    <tr>\n",
       "      <th>...</th>\n",
       "      <td>...</td>\n",
       "      <td>...</td>\n",
       "      <td>...</td>\n",
       "    </tr>\n",
       "    <tr>\n",
       "      <th>103853</th>\n",
       "      <td>35.855724</td>\n",
       "      <td>128.606376</td>\n",
       "      <td>귀옥메디칼</td>\n",
       "    </tr>\n",
       "    <tr>\n",
       "      <th>103888</th>\n",
       "      <td>35.858197</td>\n",
       "      <td>128.605642</td>\n",
       "      <td>브라이트디벨롭먼트</td>\n",
       "    </tr>\n",
       "    <tr>\n",
       "      <th>103981</th>\n",
       "      <td>35.862234</td>\n",
       "      <td>128.604078</td>\n",
       "      <td>소반국수</td>\n",
       "    </tr>\n",
       "    <tr>\n",
       "      <th>104027</th>\n",
       "      <td>35.834395</td>\n",
       "      <td>128.598178</td>\n",
       "      <td>정진품질시험</td>\n",
       "    </tr>\n",
       "    <tr>\n",
       "      <th>104032</th>\n",
       "      <td>35.843187</td>\n",
       "      <td>128.593672</td>\n",
       "      <td>밥정</td>\n",
       "    </tr>\n",
       "  </tbody>\n",
       "</table>\n",
       "<p>2995 rows × 3 columns</p>\n",
       "</div>"
      ],
      "text/plain": [
       "               위도          경도          상호명\n",
       "19      35.846625  128.603750       그린플라워꽃\n",
       "42      35.842329  128.593976       휴대폰ACC\n",
       "65      35.844665  128.604631        나윤라이프\n",
       "74      35.855724  128.606376   인디에프대백프라자점\n",
       "132     35.860259  128.600675  스마트공인중개사사무소\n",
       "...           ...         ...          ...\n",
       "103853  35.855724  128.606376        귀옥메디칼\n",
       "103888  35.858197  128.605642    브라이트디벨롭먼트\n",
       "103981  35.862234  128.604078         소반국수\n",
       "104027  35.834395  128.598178       정진품질시험\n",
       "104032  35.843187  128.593672           밥정\n",
       "\n",
       "[2995 rows x 3 columns]"
      ]
     },
     "execution_count": 5,
     "metadata": {},
     "output_type": "execute_result"
    }
   ],
   "source": [
    "sub_df[['위도','경도','상호명']]"
   ]
  },
  {
   "cell_type": "code",
   "execution_count": 6,
   "id": "a7046f75",
   "metadata": {},
   "outputs": [],
   "source": [
    "from folium.plugins import MarkerCluster\n",
    "\n",
    "m = folium.Map(\n",
    "    location = [latitude, longitude],\n",
    "    zoom_start = 15\n",
    ")\n",
    "\n",
    "coords = sub_df[['위도','경도']]\n",
    "\n",
    "marker_cluster = MarkerCluster().add_to(m)\n",
    "\n",
    "for lat, long in zip(coords['위도'], coords['경도']):\n",
    "    folium.Marker([lat, long], icon = folium.Icon(color=\"blue\")).add_to(marker_cluster)\n",
    "    \n",
    "#m"
   ]
  },
  {
   "cell_type": "code",
   "execution_count": 7,
   "id": "e17eb728",
   "metadata": {},
   "outputs": [],
   "source": [
    "import requests\n",
    "import json\n",
    "\n",
    "r = requests.get('https://raw.githubusercontent.com/yousungkim1216/edu/main/jupyter/southkorea.json')\n",
    "c = r.content\n",
    "\n",
    "# 좌표 추출\n",
    "daegu_geo = json.loads(c)"
   ]
  },
  {
   "cell_type": "code",
   "execution_count": 8,
   "id": "5a511cc7",
   "metadata": {},
   "outputs": [
    {
     "data": {
      "text/plain": [
       "<folium.features.GeoJson at 0x27748c61960>"
      ]
     },
     "execution_count": 8,
     "metadata": {},
     "output_type": "execute_result"
    }
   ],
   "source": [
    "m = folium.Map(\n",
    "    location = [35.860259, 128.600675], \n",
    "    zoom_start = 11,\n",
    ")\n",
    "\n",
    "folium.GeoJson(\n",
    "    daegu_geo, name = '지역구'\n",
    ").add_to(m)\n",
    "\n",
    "#m"
   ]
  },
  {
   "cell_type": "code",
   "execution_count": 9,
   "id": "6ea80593",
   "metadata": {},
   "outputs": [
    {
     "data": {
      "text/plain": [
       "<folium.features.GeoJson at 0x27748c62920>"
      ]
     },
     "execution_count": 9,
     "metadata": {},
     "output_type": "execute_result"
    }
   ],
   "source": [
    "# Stamen Toner 적용시(옵션 변경을 통해 지도의 테마 변경)\n",
    "m = folium.Map(location = [35.860259, 128.600675], zoom_start=11, tiles = 'Stamen Toner')\n",
    "\n",
    "folium.GeoJson(daegu_geo, name='지역구').add_to(m)\n",
    "#m"
   ]
  },
  {
   "cell_type": "code",
   "execution_count": 10,
   "id": "7739ee67",
   "metadata": {},
   "outputs": [
    {
     "data": {
      "text/plain": [
       "<folium.features.GeoJson at 0x27748c61c60>"
      ]
     },
     "execution_count": 10,
     "metadata": {},
     "output_type": "execute_result"
    }
   ],
   "source": [
    "# cartodbpositron 적용시(옵션 변경을 통해 지도의 테마 변경)\n",
    "\n",
    "m = folium.Map(location = [35.860259, 128.600675], zoom_start = 11, tiles = 'cartodbpositron')\n",
    "\n",
    "folium.GeoJson(daegu_geo, name = '지역구').add_to(m)\n",
    "#m"
   ]
  },
  {
   "cell_type": "code",
   "execution_count": 11,
   "id": "db7206fd",
   "metadata": {},
   "outputs": [
    {
     "data": {
      "text/html": [
       "<div>\n",
       "<style scoped>\n",
       "    .dataframe tbody tr th:only-of-type {\n",
       "        vertical-align: middle;\n",
       "    }\n",
       "\n",
       "    .dataframe tbody tr th {\n",
       "        vertical-align: top;\n",
       "    }\n",
       "\n",
       "    .dataframe thead th {\n",
       "        text-align: right;\n",
       "    }\n",
       "</style>\n",
       "<table border=\"1\" class=\"dataframe\">\n",
       "  <thead>\n",
       "    <tr style=\"text-align: right;\">\n",
       "      <th></th>\n",
       "      <th>시군구명</th>\n",
       "      <th>상권업종대분류명</th>\n",
       "      <th>상권업종중분류명</th>\n",
       "      <th>위도</th>\n",
       "      <th>경도</th>\n",
       "    </tr>\n",
       "  </thead>\n",
       "  <tbody>\n",
       "    <tr>\n",
       "      <th>0</th>\n",
       "      <td>서구</td>\n",
       "      <td>음식</td>\n",
       "      <td>유흥주점</td>\n",
       "      <td>35.884908</td>\n",
       "      <td>128.558109</td>\n",
       "    </tr>\n",
       "    <tr>\n",
       "      <th>1</th>\n",
       "      <td>달서구</td>\n",
       "      <td>소매</td>\n",
       "      <td>사무/문구/컴퓨터</td>\n",
       "      <td>35.858010</td>\n",
       "      <td>128.558718</td>\n",
       "    </tr>\n",
       "    <tr>\n",
       "      <th>2</th>\n",
       "      <td>동구</td>\n",
       "      <td>음식</td>\n",
       "      <td>한식</td>\n",
       "      <td>35.887930</td>\n",
       "      <td>128.649065</td>\n",
       "    </tr>\n",
       "    <tr>\n",
       "      <th>3</th>\n",
       "      <td>북구</td>\n",
       "      <td>소매</td>\n",
       "      <td>선물/팬시/기념품</td>\n",
       "      <td>35.904571</td>\n",
       "      <td>128.619633</td>\n",
       "    </tr>\n",
       "    <tr>\n",
       "      <th>4</th>\n",
       "      <td>북구</td>\n",
       "      <td>음식</td>\n",
       "      <td>한식</td>\n",
       "      <td>35.885235</td>\n",
       "      <td>128.589799</td>\n",
       "    </tr>\n",
       "    <tr>\n",
       "      <th>...</th>\n",
       "      <td>...</td>\n",
       "      <td>...</td>\n",
       "      <td>...</td>\n",
       "      <td>...</td>\n",
       "      <td>...</td>\n",
       "    </tr>\n",
       "    <tr>\n",
       "      <th>104060</th>\n",
       "      <td>북구</td>\n",
       "      <td>관광/여가/오락</td>\n",
       "      <td>스포츠/운동</td>\n",
       "      <td>35.942275</td>\n",
       "      <td>128.564364</td>\n",
       "    </tr>\n",
       "    <tr>\n",
       "      <th>104061</th>\n",
       "      <td>달서구</td>\n",
       "      <td>생활서비스</td>\n",
       "      <td>이/미용/건강</td>\n",
       "      <td>35.852792</td>\n",
       "      <td>128.554695</td>\n",
       "    </tr>\n",
       "    <tr>\n",
       "      <th>104062</th>\n",
       "      <td>북구</td>\n",
       "      <td>음식</td>\n",
       "      <td>한식</td>\n",
       "      <td>35.928692</td>\n",
       "      <td>128.544808</td>\n",
       "    </tr>\n",
       "    <tr>\n",
       "      <th>104063</th>\n",
       "      <td>달서구</td>\n",
       "      <td>생활서비스</td>\n",
       "      <td>이/미용/건강</td>\n",
       "      <td>35.812920</td>\n",
       "      <td>128.546119</td>\n",
       "    </tr>\n",
       "    <tr>\n",
       "      <th>104064</th>\n",
       "      <td>동구</td>\n",
       "      <td>생활서비스</td>\n",
       "      <td>주택수리</td>\n",
       "      <td>35.867474</td>\n",
       "      <td>128.688862</td>\n",
       "    </tr>\n",
       "  </tbody>\n",
       "</table>\n",
       "<p>104065 rows × 5 columns</p>\n",
       "</div>"
      ],
      "text/plain": [
       "       시군구명  상권업종대분류명   상권업종중분류명         위도          경도\n",
       "0        서구        음식       유흥주점  35.884908  128.558109\n",
       "1       달서구        소매  사무/문구/컴퓨터  35.858010  128.558718\n",
       "2        동구        음식         한식  35.887930  128.649065\n",
       "3        북구        소매  선물/팬시/기념품  35.904571  128.619633\n",
       "4        북구        음식         한식  35.885235  128.589799\n",
       "...     ...       ...        ...        ...         ...\n",
       "104060   북구  관광/여가/오락     스포츠/운동  35.942275  128.564364\n",
       "104061  달서구     생활서비스    이/미용/건강  35.852792  128.554695\n",
       "104062   북구        음식         한식  35.928692  128.544808\n",
       "104063  달서구     생활서비스    이/미용/건강  35.812920  128.546119\n",
       "104064   동구     생활서비스       주택수리  35.867474  128.688862\n",
       "\n",
       "[104065 rows x 5 columns]"
      ]
     },
     "execution_count": 11,
     "metadata": {},
     "output_type": "execute_result"
    }
   ],
   "source": [
    "daegu = pd.read_csv('소상공인시장진흥공단_상가(상권)정보_대구_202206.csv', encoding = 'cp949')\n",
    "\n",
    "# 필요한 컬럼 정보가 가져오기\n",
    "daegu = daegu[['시군구명','상권업종대분류명','상권업종중분류명','위도','경도']]\n",
    "daegu"
   ]
  },
  {
   "cell_type": "code",
   "execution_count": 12,
   "id": "bcb551c7",
   "metadata": {},
   "outputs": [
    {
     "data": {
      "image/png": "[encoded data removed]",
      "text/plain": [
       "<Figure size 864x2160 with 1 Axes>"
      ]
     },
     "metadata": {
      "needs_background": "light"
     },
     "output_type": "display_data"
    }
   ],
   "source": [
    "# 대구시 자치구별 상권정보 시각화\n",
    "\n",
    "import matplotlib.pyplot as plt\n",
    "import seaborn as sns\n",
    "\n",
    "#한글 폰트 설정\n",
    "plt.rcParams['font.family'] = 'NanumGothic'\n",
    "\n",
    "plt.figure(figsize=(12,30))\n",
    "sns.countplot(y=daegu['상권업종중분류명'],\n",
    "             order = daegu['상권업종중분류명'].value_counts().index)\n",
    "plt.yticks(fontsize = 12)\n",
    "plt.title('대구시 업종별 개수')\n",
    "plt.show()"
   ]
  },
  {
   "cell_type": "code",
   "execution_count": 13,
   "id": "1e7b35f6",
   "metadata": {},
   "outputs": [
    {
     "data": {
      "image/png": "[encoded data removed]",
      "text/plain": [
       "<Figure size 864x720 with 1 Axes>"
      ]
     },
     "metadata": {
      "needs_background": "light"
     },
     "output_type": "display_data"
    }
   ],
   "source": [
    "# 분식업종은 자치구별로 어느 곳에 가장 많이 분포해 있는지 시각화\n",
    "\n",
    "plt.figure(figsize = (12, 10))\n",
    "daegu.loc[daegu['상권업종중분류명'] ==\n",
    "         '분식'].groupby('시군구명')['상권업종대분류명'].count().sort_values().plot(kind='barh',\n",
    "            color='green')\n",
    "plt.yticks(fontsize = 12)\n",
    "plt.title('대구시 자치구별 분식 업종수')\n",
    "plt.show()"
   ]
  },
  {
   "cell_type": "code",
   "execution_count": 14,
   "id": "36e5297f",
   "metadata": {},
   "outputs": [
    {
     "data": {
      "text/html": [
       "<div>\n",
       "<style scoped>\n",
       "    .dataframe tbody tr th:only-of-type {\n",
       "        vertical-align: middle;\n",
       "    }\n",
       "\n",
       "    .dataframe tbody tr th {\n",
       "        vertical-align: top;\n",
       "    }\n",
       "\n",
       "    .dataframe thead th {\n",
       "        text-align: right;\n",
       "    }\n",
       "</style>\n",
       "<table border=\"1\" class=\"dataframe\">\n",
       "  <thead>\n",
       "    <tr style=\"text-align: right;\">\n",
       "      <th></th>\n",
       "      <th>시군구명</th>\n",
       "      <th>상권업종대분류명</th>\n",
       "      <th>상권업종중분류명</th>\n",
       "      <th>위도</th>\n",
       "      <th>경도</th>\n",
       "    </tr>\n",
       "  </thead>\n",
       "  <tbody>\n",
       "    <tr>\n",
       "      <th>131</th>\n",
       "      <td>중구</td>\n",
       "      <td>음식</td>\n",
       "      <td>분식</td>\n",
       "      <td>35.865156</td>\n",
       "      <td>128.605584</td>\n",
       "    </tr>\n",
       "    <tr>\n",
       "      <th>196</th>\n",
       "      <td>남구</td>\n",
       "      <td>음식</td>\n",
       "      <td>분식</td>\n",
       "      <td>35.849702</td>\n",
       "      <td>128.571701</td>\n",
       "    </tr>\n",
       "    <tr>\n",
       "      <th>215</th>\n",
       "      <td>달서구</td>\n",
       "      <td>음식</td>\n",
       "      <td>분식</td>\n",
       "      <td>35.850867</td>\n",
       "      <td>128.529905</td>\n",
       "    </tr>\n",
       "    <tr>\n",
       "      <th>221</th>\n",
       "      <td>수성구</td>\n",
       "      <td>음식</td>\n",
       "      <td>분식</td>\n",
       "      <td>35.839878</td>\n",
       "      <td>128.713308</td>\n",
       "    </tr>\n",
       "    <tr>\n",
       "      <th>271</th>\n",
       "      <td>달성군</td>\n",
       "      <td>음식</td>\n",
       "      <td>분식</td>\n",
       "      <td>35.862040</td>\n",
       "      <td>128.458450</td>\n",
       "    </tr>\n",
       "    <tr>\n",
       "      <th>...</th>\n",
       "      <td>...</td>\n",
       "      <td>...</td>\n",
       "      <td>...</td>\n",
       "      <td>...</td>\n",
       "      <td>...</td>\n",
       "    </tr>\n",
       "    <tr>\n",
       "      <th>103822</th>\n",
       "      <td>수성구</td>\n",
       "      <td>음식</td>\n",
       "      <td>분식</td>\n",
       "      <td>35.839694</td>\n",
       "      <td>128.692241</td>\n",
       "    </tr>\n",
       "    <tr>\n",
       "      <th>103837</th>\n",
       "      <td>달서구</td>\n",
       "      <td>음식</td>\n",
       "      <td>분식</td>\n",
       "      <td>35.822882</td>\n",
       "      <td>128.547626</td>\n",
       "    </tr>\n",
       "    <tr>\n",
       "      <th>103892</th>\n",
       "      <td>수성구</td>\n",
       "      <td>음식</td>\n",
       "      <td>분식</td>\n",
       "      <td>35.824335</td>\n",
       "      <td>128.628349</td>\n",
       "    </tr>\n",
       "    <tr>\n",
       "      <th>103921</th>\n",
       "      <td>달서구</td>\n",
       "      <td>음식</td>\n",
       "      <td>분식</td>\n",
       "      <td>35.843688</td>\n",
       "      <td>128.540972</td>\n",
       "    </tr>\n",
       "    <tr>\n",
       "      <th>103981</th>\n",
       "      <td>중구</td>\n",
       "      <td>음식</td>\n",
       "      <td>분식</td>\n",
       "      <td>35.862234</td>\n",
       "      <td>128.604078</td>\n",
       "    </tr>\n",
       "  </tbody>\n",
       "</table>\n",
       "<p>2702 rows × 5 columns</p>\n",
       "</div>"
      ],
      "text/plain": [
       "       시군구명 상권업종대분류명 상권업종중분류명         위도          경도\n",
       "131      중구       음식       분식  35.865156  128.605584\n",
       "196      남구       음식       분식  35.849702  128.571701\n",
       "215     달서구       음식       분식  35.850867  128.529905\n",
       "221     수성구       음식       분식  35.839878  128.713308\n",
       "271     달성군       음식       분식  35.862040  128.458450\n",
       "...     ...      ...      ...        ...         ...\n",
       "103822  수성구       음식       분식  35.839694  128.692241\n",
       "103837  달서구       음식       분식  35.822882  128.547626\n",
       "103892  수성구       음식       분식  35.824335  128.628349\n",
       "103921  달서구       음식       분식  35.843688  128.540972\n",
       "103981   중구       음식       분식  35.862234  128.604078\n",
       "\n",
       "[2702 rows x 5 columns]"
      ]
     },
     "execution_count": 14,
     "metadata": {},
     "output_type": "execute_result"
    }
   ],
   "source": [
    "# folium 위에 시각화\n",
    "\n",
    "daegu_snackbar = daegu.loc[daegu['상권업종중분류명'] == '분식']\n",
    "daegu_snackbar"
   ]
  },
  {
   "cell_type": "code",
   "execution_count": 15,
   "id": "9d4fc73a",
   "metadata": {},
   "outputs": [],
   "source": [
    "m = folium.Map(location = [35.860259, 128.600675], zoom_start = 12, tiles = 'cartodbpositron')\n",
    "\n",
    "folium.GeoJson(daegu_geo, name = '지역구').add_to(m)\n",
    "\n",
    "marker_cluster = MarkerCluster().add_to(m)\n",
    "\n",
    "for lat, long in zip(daegu_snackbar['위도'], daegu_snackbar['경도']):\n",
    "    folium.Marker([lat, long], icon = folium.Icon(color = 'purple')).add_to(marker_cluster)\n",
    "    \n",
    "#m"
   ]
  },
  {
   "cell_type": "code",
   "execution_count": 16,
   "id": "6806ec97",
   "metadata": {},
   "outputs": [
    {
     "data": {
      "text/plain": [
       "시군구명\n",
       "남구     219\n",
       "달서구    588\n",
       "달성군    274\n",
       "동구     357\n",
       "북구     457\n",
       "서구     181\n",
       "수성구    376\n",
       "중구     250\n",
       "Name: 상권업종중분류명, dtype: int64"
      ]
     },
     "execution_count": 16,
     "metadata": {},
     "output_type": "execute_result"
    }
   ],
   "source": [
    "# 시군구별 분식점 카운팅\n",
    "\n",
    "daegu_group_data = daegu.loc[daegu['상권업종중분류명'] == '분식'].groupby('시군구명')['상권업종중분류명'].count()\n",
    "\n",
    "daegu_group_data"
   ]
  },
  {
   "cell_type": "code",
   "execution_count": 17,
   "id": "9c6c9dee",
   "metadata": {},
   "outputs": [
    {
     "name": "stderr",
     "output_type": "stream",
     "text": [
      "C:\\Users\\choiy\\AppData\\Local\\Programs\\Python\\Python310\\lib\\site-packages\\folium\\folium.py:409: FutureWarning: The choropleth  method has been deprecated. Instead use the new Choropleth class, which has the same arguments. See the example notebook 'GeoJSON_and_choropleth' for how to do this.\n",
      "  warnings.warn(\n"
     ]
    }
   ],
   "source": [
    "# 업종별 개수에 따른 색상의 차이\n",
    "\n",
    "m = folium.Map(location = [35.860259, 128.600675], zoom_start = 12, tiles = 'cartodbpositron')\n",
    "\n",
    "folium.GeoJson(daegu_geo, name = '지역구').add_to(m)\n",
    "\n",
    "m.choropleth(geo_data = daegu_geo,\n",
    "            data = daegu_group_data,\n",
    "            fill_color = 'PuRd', #PuRd, YlGnBu,\n",
    "            fill_opacity = 0.5,\n",
    "            line_opacity = 0.2,\n",
    "            key_on = 'properties.name',\n",
    "            legend_name = '지역구별 분식 업종 수')\n",
    "\n",
    "#m"
   ]
  },
  {
   "cell_type": "code",
   "execution_count": 18,
   "id": "5b61928c",
   "metadata": {},
   "outputs": [],
   "source": [
    "bins = list(daegu_group_data.quantile([0, 0.25, 0.5, 0.75, 1]))\n",
    "\n",
    "m = folium.Map(location = [35.860259, 128.600675], zoom_start = 12, tiles = 'cartodbpositron')\n",
    "\n",
    "folium.GeoJson(daegu_geo, name = '지역구').add_to(m)\n",
    "\n",
    "m.choropleth(geo_data = daegu_geo,\n",
    "            data = daegu_group_data,\n",
    "            fill_color = 'PuRd', #PuRd, YlGnBu,\n",
    "            fill_opacity = 0.5,\n",
    "            line_opacity = 0.2,\n",
    "            key_on = 'properties.name',\n",
    "            legend_name = '지역구별 분식 업종 수',\n",
    "            bins = bins)\n",
    "\n",
    "#m"
   ]
  },
  {
   "cell_type": "code",
   "execution_count": null,
   "id": "71c66e8e",
   "metadata": {},
   "outputs": [],
   "source": []
  }
 ],
 "metadata": {
  "kernelspec": {
   "display_name": "Python 3 (ipykernel)",
   "language": "python",
   "name": "python3"
  },
  "language_info": {
   "codemirror_mode": {
    "name": "ipython",
    "version": 3
   },
   "file_extension": ".py",
   "mimetype": "text/x-python",
   "name": "python",
   "nbconvert_exporter": "python",
   "pygments_lexer": "ipython3",
   "version": "3.10.5"
  }
 },
 "nbformat": 4,
 "nbformat_minor": 5
}
