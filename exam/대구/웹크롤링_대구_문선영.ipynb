{
 "cells": [
  {
   "cell_type": "code",
   "execution_count": 1,
   "id": "eae14709",
   "metadata": {},
   "outputs": [
    {
     "ename": "ModuleNotFoundError",
     "evalue": "No module named 'usecsv'",
     "output_type": "error",
     "traceback": [
      "\u001b[1;31m---------------------------------------------------------------------------\u001b[0m",
      "\u001b[1;31mModuleNotFoundError\u001b[0m                       Traceback (most recent call last)",
      "Input \u001b[1;32mIn [1]\u001b[0m, in \u001b[0;36m<cell line: 1>\u001b[1;34m()\u001b[0m\n\u001b[1;32m----> 1\u001b[0m \u001b[38;5;28;01mimport\u001b[39;00m \u001b[38;5;21;01mos\u001b[39;00m\u001b[38;5;241m,\u001b[39m \u001b[38;5;21;01mre\u001b[39;00m\u001b[38;5;241m,\u001b[39m \u001b[38;5;21;01musecsv\u001b[39;00m\n\u001b[0;32m      2\u001b[0m \u001b[38;5;28;01mimport\u001b[39;00m \u001b[38;5;21;01murllib\u001b[39;00m\u001b[38;5;21;01m.\u001b[39;00m\u001b[38;5;21;01mrequest\u001b[39;00m \u001b[38;5;28;01mas\u001b[39;00m \u001b[38;5;21;01mur\u001b[39;00m\n\u001b[0;32m      3\u001b[0m \u001b[38;5;28;01mfrom\u001b[39;00m \u001b[38;5;21;01mbs4\u001b[39;00m \u001b[38;5;28;01mimport\u001b[39;00m BeautifulSoup \u001b[38;5;28;01mas\u001b[39;00m bs\n",
      "\u001b[1;31mModuleNotFoundError\u001b[0m: No module named 'usecsv'"
     ]
    }
   ],
   "source": [
    "import os, re, usecsv\n",
    "import urllib.request as ur\n",
    "from bs4 import BeautifulSoup as bs"
   ]
  },
  {
   "cell_type": "code",
   "execution_count": null,
   "id": "3603fc1a",
   "metadata": {},
   "outputs": [],
   "source": [
    "url = 'http://quotes.toscrape.com'\n",
    "\n",
    "html = ur.urlopen(url)\n"
   ]
  },
  {
   "cell_type": "code",
   "execution_count": null,
   "id": "19acaf39",
   "metadata": {},
   "outputs": [],
   "source": [
    "html = ur.urlopen(url)\n",
    "\n",
    "soup = bs(html.read(), 'html.parser') \n"
   ]
  },
  {
   "cell_type": "code",
   "execution_count": null,
   "id": "fe00d261",
   "metadata": {},
   "outputs": [],
   "source": [
    "soup = bs(ur.urlopen(url).read(), 'html.parser')\n"
   ]
  },
  {
   "cell_type": "code",
   "execution_count": null,
   "id": "ad895557",
   "metadata": {},
   "outputs": [],
   "source": [
    "\n",
    "soup.find_all('span')\n"
   ]
  },
  {
   "cell_type": "code",
   "execution_count": null,
   "id": "f071d066",
   "metadata": {},
   "outputs": [],
   "source": [
    "quote=soup.find_all('span')"
   ]
  },
  {
   "cell_type": "code",
   "execution_count": null,
   "id": "d2334cf5",
   "metadata": {},
   "outputs": [],
   "source": [
    "quote[0].text "
   ]
  },
  {
   "cell_type": "code",
   "execution_count": null,
   "id": "baa2c200",
   "metadata": {},
   "outputs": [],
   "source": [
    "for i in quote:\n",
    "    i.text"
   ]
  },
  {
   "cell_type": "code",
   "execution_count": null,
   "id": "6d696d41",
   "metadata": {},
   "outputs": [],
   "source": [
    "print(soup.find_all('div',{'class' : 'quote'})[0].text)"
   ]
  },
  {
   "cell_type": "code",
   "execution_count": null,
   "id": "fa22c8f9",
   "metadata": {},
   "outputs": [],
   "source": [
    "for i in soup.find_all('div', {'class':'quote'}):\n",
    "    print(i.text)"
   ]
  }
 ],
 "metadata": {
  "kernelspec": {
   "display_name": "Python 3 (ipykernel)",
   "language": "python",
   "name": "python3"
  },
  "language_info": {
   "codemirror_mode": {
    "name": "ipython",
    "version": 3
   },
   "file_extension": ".py",
   "mimetype": "text/x-python",
   "name": "python",
   "nbconvert_exporter": "python",
   "pygments_lexer": "ipython3",
   "version": "3.9.12"
  }
 },
 "nbformat": 4,
 "nbformat_minor": 5
}
