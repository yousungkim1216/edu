{
 "cells": [
  {
   "cell_type": "code",
   "execution_count": 1,
   "id": "840d3bff",
   "metadata": {},
   "outputs": [],
   "source": [
    "import requests\n",
    "import pandas as pd\n",
    "from bs4 import BeautifulSoup\n",
    "url = \"https://finance.naver.com/sise/\""
   ]
  },
  {
   "cell_type": "code",
   "execution_count": 5,
   "id": "a99d8dc7",
   "metadata": {},
   "outputs": [
    {
     "name": "stdout",
     "output_type": "stream",
     "text": [
      "\n",
      "1.삼성전자60,900하락\n",
      "2.한국조선해양92,000하락\n",
      "3.SK하이닉스96,400상승\n",
      "4.KODEX 배당성장13,175하락\n",
      "5.카카오76,700하락\n",
      "6.현대차190,000상승\n",
      "7.NAVER248,000하락\n",
      "8.대신증권우14,550하락\n",
      "9.자이언트스텝25,250하락\n",
      "10.샘표식품38,500하락\n",
      "\n"
     ]
    }
   ],
   "source": [
    "req = requests.get(url)\n",
    "# html 정보에서 text정보만 추출\n",
    "html = req.text\n",
    "soup = BeautifulSoup(html, 'html.parser')\n",
    "\n",
    "# my_stock 변수에 select 할 내용을 찾아서 넣어준다\n",
    "my_stock = soup.select('.lst_pop')\n",
    "for stock_name in my_stock:\n",
    "    print(stock_name.text)"
   ]
  },
  {
   "cell_type": "code",
   "execution_count": 6,
   "id": "cf8aa6f6",
   "metadata": {},
   "outputs": [
    {
     "name": "stdout",
     "output_type": "stream",
     "text": [
      "\n",
      "다우산업33,706.74하락\n",
      " 나스닥12,705.22하락\n",
      " 홍콩H6,719.88상승\n",
      " 상해종합3,258.08하락\n",
      " 니케이22528,930.33하락\n",
      "\n"
     ]
    }
   ],
   "source": [
    "req = requests.get(url)\n",
    "# html 정보에서 text정보만 추출\n",
    "html = req.text\n",
    "soup = BeautifulSoup(html, 'html.parser')\n",
    "\n",
    "# my_stock 변수에 select 할 내용을 찾아서 넣어준다\n",
    "world_stock = soup.select('.lst_major')\n",
    "for stock_name in world_stock:\n",
    "    print(stock_name.text)"
   ]
  },
  {
   "cell_type": "code",
   "execution_count": 7,
   "id": "0bb6a0fb",
   "metadata": {},
   "outputs": [
    {
     "data": {
      "text/plain": [
       "[<span class=\"num _au_real_list\">@code@</span>,\n",
       " <span class=\"num num2\" id=\"KOSPI_now\">2,492.69</span>,\n",
       " <span class=\"num num2\" id=\"KOSDAQ_now\">814.17</span>,\n",
       " <span class=\"num num2\" id=\"KPI200_now\">326.79</span>]"
      ]
     },
     "execution_count": 7,
     "metadata": {},
     "output_type": "execute_result"
    }
   ],
   "source": [
    "import urllib.request\n",
    "\n",
    "# 웹사이트 정보 요청\n",
    "page = urllib.request.urlopen(url)\n",
    "\n",
    "# 해당 페이지는 cp949 방식의 인코딩 사용\n",
    "html = page.read().decode('cp949')\n",
    "\n",
    "soup = BeautifulSoup(html, 'html.parser')\n",
    "soup.select('span.num')"
   ]
  },
  {
   "cell_type": "code",
   "execution_count": 9,
   "id": "bf5f2765",
   "metadata": {},
   "outputs": [
    {
     "data": {
      "text/plain": [
       "2492.69"
      ]
     },
     "execution_count": 9,
     "metadata": {},
     "output_type": "execute_result"
    }
   ],
   "source": [
    "soup.select('span.num')[1]              # 찾는 값\n",
    "soup.select('span.num')[1].string       # string 속성\n",
    "float(soup.select('span.num')[1].string.replace(',', ''))    # float 변경"
   ]
  },
  {
   "cell_type": "code",
   "execution_count": 10,
   "id": "d624cf2d",
   "metadata": {},
   "outputs": [
    {
     "data": {
      "text/plain": [
       "'2,492.69'"
      ]
     },
     "execution_count": 10,
     "metadata": {},
     "output_type": "execute_result"
    }
   ],
   "source": [
    "# input으로 id = 'KOSPI_now' 처럼 지정\n",
    "soup.find(id = 'KOSPI_now')\n",
    "# string 속성을 가져와 원하는 데이터까지 도달\n",
    "soup.find(id = 'KOSPI_now').string"
   ]
  },
  {
   "cell_type": "code",
   "execution_count": 15,
   "id": "fe195495",
   "metadata": {},
   "outputs": [
    {
     "data": {
      "text/plain": [
       "'상승'"
      ]
     },
     "execution_count": 15,
     "metadata": {},
     "output_type": "execute_result"
    }
   ],
   "source": [
    "# 코스피 등락률 크롤링\n",
    "#soup.find(id = 'KOSPI_change')\n",
    "#soup.find(id = 'KOSPI_change').contents\n",
    "#soup.find(id = 'KOSPI_change').contents[2]\n",
    "#soup.find(id = 'KOSPI_change').contents[2].split()\n",
    "soup.find(id = 'KOSPI_change').contents[3].string"
   ]
  },
  {
   "cell_type": "code",
   "execution_count": 29,
   "id": "e5aac0a1",
   "metadata": {},
   "outputs": [],
   "source": [
    "def NS_users_crawler(codes, page):\n",
    "# User-Agent 설정\n",
    "    headers = {'User-Agent': 'Mozilla/5.0 (Windows NT 10.0; Win64; x64) AppleWebKit/537.36 (KHTML, like Gecko) Chrome/101.0.4951.67 Safari/537.36'}\n",
    "    result_df = pd.DataFrame([])\n",
    "    n_ = 0\n",
    "    for page in range(1, page):\n",
    "        n_ += 1\n",
    "        if (n_ % 10 == 0):\n",
    "            print('================== Page ' + str(page) + ' is done ==================')\n",
    "        url = \"https://finance.naver.com/item/board.naver?code=%s&page=%s\" % (codes, str(page))\n",
    "# html → parsing\n",
    "        html = requests.get(url, headers=headers).content\n",
    "# 한글 깨짐 방지 decode\n",
    "        soup = BeautifulSoup(html.decode('euc-kr', 'replace'), 'html.parser')\n",
    "        table = soup.find('table', {'class': 'type2'})\n",
    "        tb = table.select('tbody > tr')\n",
    "        for i in range(2, len(tb)):\n",
    "            if len(tb[i].select('td > span')) > 0:\n",
    "                date = tb[i].select('td > span')[0].text\n",
    "                title = tb[i].select('td.title > a')[0]['title']\n",
    "                views = tb[i].select('td > span')[1].text\n",
    "                pos = tb[i].select('td > strong')[0].text\n",
    "                neg = tb[i].select('td > strong')[1].text\n",
    "                table = pd.DataFrame({'날짜': [date], '제목': [title], '조회': [views], '공감': [pos], '비공감': [neg]})\n",
    "                result_df = result_df.append(table)\n",
    "    return result_df"
   ]
  },
  {
   "cell_type": "code",
   "execution_count": 30,
   "id": "50052a24",
   "metadata": {},
   "outputs": [
    {
     "name": "stderr",
     "output_type": "stream",
     "text": [
      "C:\\Users\\USER\\AppData\\Local\\Temp\\ipykernel_8648\\2787053089.py:25: FutureWarning: The frame.append method is deprecated and will be removed from pandas in a future version. Use pandas.concat instead.\n",
      "  result_df = result_df.append(table)\n",
      "C:\\Users\\USER\\AppData\\Local\\Temp\\ipykernel_8648\\2787053089.py:25: FutureWarning: The frame.append method is deprecated and will be removed from pandas in a future version. Use pandas.concat instead.\n",
      "  result_df = result_df.append(table)\n",
      "C:\\Users\\USER\\AppData\\Local\\Temp\\ipykernel_8648\\2787053089.py:25: FutureWarning: The frame.append method is deprecated and will be removed from pandas in a future version. Use pandas.concat instead.\n",
      "  result_df = result_df.append(table)\n",
      "C:\\Users\\USER\\AppData\\Local\\Temp\\ipykernel_8648\\2787053089.py:25: FutureWarning: The frame.append method is deprecated and will be removed from pandas in a future version. Use pandas.concat instead.\n",
      "  result_df = result_df.append(table)\n",
      "C:\\Users\\USER\\AppData\\Local\\Temp\\ipykernel_8648\\2787053089.py:25: FutureWarning: The frame.append method is deprecated and will be removed from pandas in a future version. Use pandas.concat instead.\n",
      "  result_df = result_df.append(table)\n",
      "C:\\Users\\USER\\AppData\\Local\\Temp\\ipykernel_8648\\2787053089.py:25: FutureWarning: The frame.append method is deprecated and will be removed from pandas in a future version. Use pandas.concat instead.\n",
      "  result_df = result_df.append(table)\n",
      "C:\\Users\\USER\\AppData\\Local\\Temp\\ipykernel_8648\\2787053089.py:25: FutureWarning: The frame.append method is deprecated and will be removed from pandas in a future version. Use pandas.concat instead.\n",
      "  result_df = result_df.append(table)\n",
      "C:\\Users\\USER\\AppData\\Local\\Temp\\ipykernel_8648\\2787053089.py:25: FutureWarning: The frame.append method is deprecated and will be removed from pandas in a future version. Use pandas.concat instead.\n",
      "  result_df = result_df.append(table)\n",
      "C:\\Users\\USER\\AppData\\Local\\Temp\\ipykernel_8648\\2787053089.py:25: FutureWarning: The frame.append method is deprecated and will be removed from pandas in a future version. Use pandas.concat instead.\n",
      "  result_df = result_df.append(table)\n",
      "C:\\Users\\USER\\AppData\\Local\\Temp\\ipykernel_8648\\2787053089.py:25: FutureWarning: The frame.append method is deprecated and will be removed from pandas in a future version. Use pandas.concat instead.\n",
      "  result_df = result_df.append(table)\n",
      "C:\\Users\\USER\\AppData\\Local\\Temp\\ipykernel_8648\\2787053089.py:25: FutureWarning: The frame.append method is deprecated and will be removed from pandas in a future version. Use pandas.concat instead.\n",
      "  result_df = result_df.append(table)\n",
      "C:\\Users\\USER\\AppData\\Local\\Temp\\ipykernel_8648\\2787053089.py:25: FutureWarning: The frame.append method is deprecated and will be removed from pandas in a future version. Use pandas.concat instead.\n",
      "  result_df = result_df.append(table)\n",
      "C:\\Users\\USER\\AppData\\Local\\Temp\\ipykernel_8648\\2787053089.py:25: FutureWarning: The frame.append method is deprecated and will be removed from pandas in a future version. Use pandas.concat instead.\n",
      "  result_df = result_df.append(table)\n",
      "C:\\Users\\USER\\AppData\\Local\\Temp\\ipykernel_8648\\2787053089.py:25: FutureWarning: The frame.append method is deprecated and will be removed from pandas in a future version. Use pandas.concat instead.\n",
      "  result_df = result_df.append(table)\n",
      "C:\\Users\\USER\\AppData\\Local\\Temp\\ipykernel_8648\\2787053089.py:25: FutureWarning: The frame.append method is deprecated and will be removed from pandas in a future version. Use pandas.concat instead.\n",
      "  result_df = result_df.append(table)\n",
      "C:\\Users\\USER\\AppData\\Local\\Temp\\ipykernel_8648\\2787053089.py:25: FutureWarning: The frame.append method is deprecated and will be removed from pandas in a future version. Use pandas.concat instead.\n",
      "  result_df = result_df.append(table)\n",
      "C:\\Users\\USER\\AppData\\Local\\Temp\\ipykernel_8648\\2787053089.py:25: FutureWarning: The frame.append method is deprecated and will be removed from pandas in a future version. Use pandas.concat instead.\n",
      "  result_df = result_df.append(table)\n",
      "C:\\Users\\USER\\AppData\\Local\\Temp\\ipykernel_8648\\2787053089.py:25: FutureWarning: The frame.append method is deprecated and will be removed from pandas in a future version. Use pandas.concat instead.\n",
      "  result_df = result_df.append(table)\n",
      "C:\\Users\\USER\\AppData\\Local\\Temp\\ipykernel_8648\\2787053089.py:25: FutureWarning: The frame.append method is deprecated and will be removed from pandas in a future version. Use pandas.concat instead.\n",
      "  result_df = result_df.append(table)\n",
      "C:\\Users\\USER\\AppData\\Local\\Temp\\ipykernel_8648\\2787053089.py:25: FutureWarning: The frame.append method is deprecated and will be removed from pandas in a future version. Use pandas.concat instead.\n",
      "  result_df = result_df.append(table)\n",
      "C:\\Users\\USER\\AppData\\Local\\Temp\\ipykernel_8648\\2787053089.py:25: FutureWarning: The frame.append method is deprecated and will be removed from pandas in a future version. Use pandas.concat instead.\n",
      "  result_df = result_df.append(table)\n",
      "C:\\Users\\USER\\AppData\\Local\\Temp\\ipykernel_8648\\2787053089.py:25: FutureWarning: The frame.append method is deprecated and will be removed from pandas in a future version. Use pandas.concat instead.\n",
      "  result_df = result_df.append(table)\n",
      "C:\\Users\\USER\\AppData\\Local\\Temp\\ipykernel_8648\\2787053089.py:25: FutureWarning: The frame.append method is deprecated and will be removed from pandas in a future version. Use pandas.concat instead.\n",
      "  result_df = result_df.append(table)\n",
      "C:\\Users\\USER\\AppData\\Local\\Temp\\ipykernel_8648\\2787053089.py:25: FutureWarning: The frame.append method is deprecated and will be removed from pandas in a future version. Use pandas.concat instead.\n",
      "  result_df = result_df.append(table)\n",
      "C:\\Users\\USER\\AppData\\Local\\Temp\\ipykernel_8648\\2787053089.py:25: FutureWarning: The frame.append method is deprecated and will be removed from pandas in a future version. Use pandas.concat instead.\n",
      "  result_df = result_df.append(table)\n",
      "C:\\Users\\USER\\AppData\\Local\\Temp\\ipykernel_8648\\2787053089.py:25: FutureWarning: The frame.append method is deprecated and will be removed from pandas in a future version. Use pandas.concat instead.\n",
      "  result_df = result_df.append(table)\n",
      "C:\\Users\\USER\\AppData\\Local\\Temp\\ipykernel_8648\\2787053089.py:25: FutureWarning: The frame.append method is deprecated and will be removed from pandas in a future version. Use pandas.concat instead.\n",
      "  result_df = result_df.append(table)\n",
      "C:\\Users\\USER\\AppData\\Local\\Temp\\ipykernel_8648\\2787053089.py:25: FutureWarning: The frame.append method is deprecated and will be removed from pandas in a future version. Use pandas.concat instead.\n",
      "  result_df = result_df.append(table)\n",
      "C:\\Users\\USER\\AppData\\Local\\Temp\\ipykernel_8648\\2787053089.py:25: FutureWarning: The frame.append method is deprecated and will be removed from pandas in a future version. Use pandas.concat instead.\n",
      "  result_df = result_df.append(table)\n",
      "C:\\Users\\USER\\AppData\\Local\\Temp\\ipykernel_8648\\2787053089.py:25: FutureWarning: The frame.append method is deprecated and will be removed from pandas in a future version. Use pandas.concat instead.\n",
      "  result_df = result_df.append(table)\n",
      "C:\\Users\\USER\\AppData\\Local\\Temp\\ipykernel_8648\\2787053089.py:25: FutureWarning: The frame.append method is deprecated and will be removed from pandas in a future version. Use pandas.concat instead.\n",
      "  result_df = result_df.append(table)\n",
      "C:\\Users\\USER\\AppData\\Local\\Temp\\ipykernel_8648\\2787053089.py:25: FutureWarning: The frame.append method is deprecated and will be removed from pandas in a future version. Use pandas.concat instead.\n",
      "  result_df = result_df.append(table)\n",
      "C:\\Users\\USER\\AppData\\Local\\Temp\\ipykernel_8648\\2787053089.py:25: FutureWarning: The frame.append method is deprecated and will be removed from pandas in a future version. Use pandas.concat instead.\n",
      "  result_df = result_df.append(table)\n",
      "C:\\Users\\USER\\AppData\\Local\\Temp\\ipykernel_8648\\2787053089.py:25: FutureWarning: The frame.append method is deprecated and will be removed from pandas in a future version. Use pandas.concat instead.\n",
      "  result_df = result_df.append(table)\n",
      "C:\\Users\\USER\\AppData\\Local\\Temp\\ipykernel_8648\\2787053089.py:25: FutureWarning: The frame.append method is deprecated and will be removed from pandas in a future version. Use pandas.concat instead.\n",
      "  result_df = result_df.append(table)\n",
      "C:\\Users\\USER\\AppData\\Local\\Temp\\ipykernel_8648\\2787053089.py:25: FutureWarning: The frame.append method is deprecated and will be removed from pandas in a future version. Use pandas.concat instead.\n",
      "  result_df = result_df.append(table)\n",
      "C:\\Users\\USER\\AppData\\Local\\Temp\\ipykernel_8648\\2787053089.py:25: FutureWarning: The frame.append method is deprecated and will be removed from pandas in a future version. Use pandas.concat instead.\n",
      "  result_df = result_df.append(table)\n",
      "C:\\Users\\USER\\AppData\\Local\\Temp\\ipykernel_8648\\2787053089.py:25: FutureWarning: The frame.append method is deprecated and will be removed from pandas in a future version. Use pandas.concat instead.\n",
      "  result_df = result_df.append(table)\n"
     ]
    },
    {
     "data": {
      "text/html": [
       "<div>\n",
       "<style scoped>\n",
       "    .dataframe tbody tr th:only-of-type {\n",
       "        vertical-align: middle;\n",
       "    }\n",
       "\n",
       "    .dataframe tbody tr th {\n",
       "        vertical-align: top;\n",
       "    }\n",
       "\n",
       "    .dataframe thead th {\n",
       "        text-align: right;\n",
       "    }\n",
       "</style>\n",
       "<table border=\"1\" class=\"dataframe\">\n",
       "  <thead>\n",
       "    <tr style=\"text-align: right;\">\n",
       "      <th></th>\n",
       "      <th>날짜</th>\n",
       "      <th>제목</th>\n",
       "      <th>조회</th>\n",
       "      <th>공감</th>\n",
       "      <th>비공감</th>\n",
       "    </tr>\n",
       "  </thead>\n",
       "  <tbody>\n",
       "    <tr>\n",
       "      <th>0</th>\n",
       "      <td>2022.08.21 14:51</td>\n",
       "      <td>EUR / JPY 하락 전환 전망 !!!!!!!!</td>\n",
       "      <td>2</td>\n",
       "      <td>0</td>\n",
       "      <td>0</td>\n",
       "    </tr>\n",
       "    <tr>\n",
       "      <th>0</th>\n",
       "      <td>2022.08.21 14:49</td>\n",
       "      <td>이준석  2차 성접대</td>\n",
       "      <td>2</td>\n",
       "      <td>0</td>\n",
       "      <td>0</td>\n",
       "    </tr>\n",
       "    <tr>\n",
       "      <th>0</th>\n",
       "      <td>2022.08.21 14:49</td>\n",
       "      <td>병사들</td>\n",
       "      <td>4</td>\n",
       "      <td>2</td>\n",
       "      <td>1</td>\n",
       "    </tr>\n",
       "    <tr>\n",
       "      <th>0</th>\n",
       "      <td>2022.08.21 14:48</td>\n",
       "      <td>USD/CNY 신고가 =  대폭락 심화될 것 !!!!!!!!</td>\n",
       "      <td>9</td>\n",
       "      <td>1</td>\n",
       "      <td>0</td>\n",
       "    </tr>\n",
       "    <tr>\n",
       "      <th>0</th>\n",
       "      <td>2022.08.21 14:47</td>\n",
       "      <td>숨어서 지켜보는 보수 꼴통이 많군요. ㅋㅋ</td>\n",
       "      <td>8</td>\n",
       "      <td>3</td>\n",
       "      <td>0</td>\n",
       "    </tr>\n",
       "    <tr>\n",
       "      <th>0</th>\n",
       "      <td>2022.08.21 14:46</td>\n",
       "      <td>형이다!!!</td>\n",
       "      <td>8</td>\n",
       "      <td>2</td>\n",
       "      <td>0</td>\n",
       "    </tr>\n",
       "    <tr>\n",
       "      <th>0</th>\n",
       "      <td>2022.08.21 14:44</td>\n",
       "      <td>주식을 사랑에 비유해서 롱런하는 방법?</td>\n",
       "      <td>9</td>\n",
       "      <td>0</td>\n",
       "      <td>0</td>\n",
       "    </tr>\n",
       "    <tr>\n",
       "      <th>0</th>\n",
       "      <td>2022.08.21 14:42</td>\n",
       "      <td>난 또 좌삐리들이 돼지 돼지해서 정수기인줄 알았네</td>\n",
       "      <td>9</td>\n",
       "      <td>0</td>\n",
       "      <td>3</td>\n",
       "    </tr>\n",
       "    <tr>\n",
       "      <th>0</th>\n",
       "      <td>2022.08.21 14:41</td>\n",
       "      <td>전OPEC총장 돌연사 전 일본총리 암살</td>\n",
       "      <td>16</td>\n",
       "      <td>1</td>\n",
       "      <td>1</td>\n",
       "    </tr>\n",
       "    <tr>\n",
       "      <th>0</th>\n",
       "      <td>2022.08.21 14:40</td>\n",
       "      <td>2찍들 나불거리는거 보니 아직 정신못차렸네</td>\n",
       "      <td>19</td>\n",
       "      <td>3</td>\n",
       "      <td>0</td>\n",
       "    </tr>\n",
       "  </tbody>\n",
       "</table>\n",
       "</div>"
      ],
      "text/plain": [
       "                 날짜                                 제목  조회 공감 비공감\n",
       "0  2022.08.21 14:51        EUR / JPY 하락 전환 전망 !!!!!!!!   2  0   0\n",
       "0  2022.08.21 14:49                        이준석  2차 성접대   2  0   0\n",
       "0  2022.08.21 14:49                                병사들   4  2   1\n",
       "0  2022.08.21 14:48  USD/CNY 신고가 =  대폭락 심화될 것 !!!!!!!!   9  1   0\n",
       "0  2022.08.21 14:47            숨어서 지켜보는 보수 꼴통이 많군요. ㅋㅋ   8  3   0\n",
       "0  2022.08.21 14:46                            형이다!!!    8  2   0\n",
       "0  2022.08.21 14:44              주식을 사랑에 비유해서 롱런하는 방법?   9  0   0\n",
       "0  2022.08.21 14:42        난 또 좌삐리들이 돼지 돼지해서 정수기인줄 알았네   9  0   3\n",
       "0  2022.08.21 14:41             전OPEC총장 돌연사 전 일본총리 암살   16  1   1\n",
       "0  2022.08.21 14:40            2찍들 나불거리는거 보니 아직 정신못차렸네  19  3   0"
      ]
     },
     "execution_count": 30,
     "metadata": {},
     "output_type": "execute_result"
    }
   ],
   "source": [
    "data = NS_users_crawler(\"005930\", 3)\n",
    "data.head(10)"
   ]
  },
  {
   "cell_type": "code",
   "execution_count": 35,
   "id": "5e8d242f",
   "metadata": {},
   "outputs": [],
   "source": [
    "import pandas as pd\n",
    "import requests\n",
    "code = '005930'\n",
    "URL = f\"https://finance.naver.com/item/main.nhn?code={code}\"\n",
    "r = requests.get(URL)\n",
    "df = pd.read_html(r.text)[3]\n",
    "df.set_index(df.columns[0],inplace=True)\n",
    "df.index.rename('주요재무정보', inplace=True)\n",
    "df.columns = df.columns.droplevel(2)\n",
    "annual_date = pd.DataFrame(df).xs('최근 연간 실적',axis=1)\n",
    "quater_date = pd.DataFrame(df).xs('최근 분기 실적',axis=1)"
   ]
  },
  {
   "cell_type": "code",
   "execution_count": 1,
   "id": "2724ef3e",
   "metadata": {},
   "outputs": [
    {
     "data": {
      "image/png": "[encoded data removed]",
      "text/plain": [
       "<Figure size 432x288 with 1 Axes>"
      ]
     },
     "metadata": {
      "needs_background": "light"
     },
     "output_type": "display_data"
    }
   ],
   "source": [
    "import FinanceDataReader as fdr\n",
    "\n",
    "df_krx = fdr.StockListing('KRX')\n",
    "\n",
    "# 개별 종목 가격 데이터 가져오기\n",
    "#df = fdr.DataReader('종목코드', '시작일자'. '종료일자')\n",
    "\n",
    "# 한국주식 (삼성전자)\n",
    "#df = fdr.DataReader('323410', '2022')\n",
    "#df\n",
    "#df['Open'].plot();\n",
    "\n",
    "# 미국주식 (APPLE) # df['Close'].plot();\n",
    "df = fdr.DataReader('TSLA', '2022')\n",
    "#df\n",
    "df['Close'].plot();\n",
    "\n",
    "# ETF 데이터 가져오기 # 미국(ETF/US), 일본(ETF/JP)\n",
    "#df_etf = fdr.StockListing('ETF/KR')\n",
    "#df_etf\n",
    "\n",
    "# KODEX 200선물인버스2X 사례\n",
    "#df_inver = fdr.DataReader('252670')\n",
    "#df_inver\n"
   ]
  },
  {
   "cell_type": "code",
   "execution_count": null,
   "id": "1519dd7f",
   "metadata": {},
   "outputs": [],
   "source": []
  }
 ],
 "metadata": {
  "kernelspec": {
   "display_name": "Python 3 (ipykernel)",
   "language": "python",
   "name": "python3"
  },
  "language_info": {
   "codemirror_mode": {
    "name": "ipython",
    "version": 3
   },
   "file_extension": ".py",
   "mimetype": "text/x-python",
   "name": "python",
   "nbconvert_exporter": "python",
   "pygments_lexer": "ipython3",
   "version": "3.9.12"
  }
 },
 "nbformat": 4,
 "nbformat_minor": 5
}
