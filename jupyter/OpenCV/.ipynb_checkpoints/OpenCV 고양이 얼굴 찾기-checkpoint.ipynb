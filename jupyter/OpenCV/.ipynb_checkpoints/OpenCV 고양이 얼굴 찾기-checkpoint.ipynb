{
 "cells": [
  {
   "cell_type": "code",
   "execution_count": null,
   "id": "ec4f7920",
   "metadata": {},
   "outputs": [
    {
     "name": "stdout",
     "output_type": "stream",
     "text": [
      "The number of images found is : 1\n"
     ]
    }
   ],
   "source": [
    "import cv2\n",
    "import os\n",
    "'''\n",
    "scale factor는 1에 가까울수록 인식율이 좋지만 \n",
    "그만큼 느려짐(그만큼 많은  \n",
    "'''\n",
    "SF  = 1.02\n",
    "'''\n",
    "내부 알고리즘에서 최소한 검출된 횟수이상 되야 인식\n",
    "0이면 무수한 오 검출이 되고\n",
    "1이면 한번 이상 검출된 곳만 인식된다.\n",
    "값이 높아질수록 오인식율은 줄지만 그만큼 \n",
    "인식율이 떨어진다.\n",
    "'''\n",
    "N = 2\n",
    "'''\n",
    "검출하려는 이미지의 최소 사이즈\n",
    "이 값보다 작은 이미지는 무시 \n",
    "'''\n",
    "MS=(100,100)\n",
    "\n",
    "# 고양이 얼굴 인식용 haarcascade 파일 위치 \n",
    "cascade = 'haarcascade/haarcascade_frontalcatface.xml'\n",
    "\n",
    "# 고양이 얼굴 인식 cascade 생성 \n",
    "face_cascade = cv2.CascadeClassifier(cascade)\n",
    "\n",
    "# 얼굴 검출용 이미지 \n",
    "catPic = 'images/cats.jpg'\n",
    "\n",
    "# 얼굴 검출 함수 \n",
    "def detectCatFace(imgPath):\n",
    "    # 이미지 불러오기 \n",
    "    img = cv2.imread(imgPath, cv2.IMREAD_COLOR);\n",
    "    # 회색으로 변경 \n",
    "    grayImg = cv2.cvtColor(img, cv2.COLOR_BGR2GRAY)\n",
    "    # 얼굴 검출 \n",
    "    faces = face_cascade.detectMultiScale(grayImg, scaleFactor=SF, minNeighbors=N, minSize=MS)\n",
    "    # 검출된 얼굴 개수 출력 \n",
    "    print(\"The number of images found is : \" + str(len(faces)))    \n",
    "    # 검출된 얼굴 위치에 녹색 상자그리기 \n",
    "    for (x,y,w,h) in faces:\n",
    "        cv2.rectangle(img,(x,y),(x+w,y+h),(0,255,0),2)\n",
    "    # 검출된 얼굴(녹색 상자가 그려진) 이미지 데이터를 리턴\n",
    "    return img    \n",
    "\n",
    "# 얼굴 검출 함수 호출 \n",
    "img = detectCatFace(catPic)\n",
    "# 검출된 이미지가 있다면 화면에 표시 \n",
    "if len(img) != 0:\n",
    "    cv2.imshow('Face',img)\n",
    "\n",
    "# 아무키나 눌릴때까지 대기 \n",
    "cv2.waitKey(0)\n",
    "\n",
    "cv2.destroyWindow('Face')"
   ]
  }
 ],
 "metadata": {
  "kernelspec": {
   "display_name": "Python 3 (ipykernel)",
   "language": "python",
   "name": "python3"
  },
  "language_info": {
   "codemirror_mode": {
    "name": "ipython",
    "version": 3
   },
   "file_extension": ".py",
   "mimetype": "text/x-python",
   "name": "python",
   "nbconvert_exporter": "python",
   "pygments_lexer": "ipython3",
   "version": "3.10.5"
  }
 },
 "nbformat": 4,
 "nbformat_minor": 5
}
